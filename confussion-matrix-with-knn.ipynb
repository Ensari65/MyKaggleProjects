{
 "cells": [
  {
   "cell_type": "code",
   "execution_count": 1,
   "id": "68444b76",
   "metadata": {
    "_cell_guid": "b1076dfc-b9ad-4769-8c92-a6c4dae69d19",
    "_uuid": "8f2839f25d086af736a60e9eeb907d3b93b6e0e5",
    "execution": {
     "iopub.execute_input": "2025-03-03T15:20:04.658472Z",
     "iopub.status.busy": "2025-03-03T15:20:04.658058Z",
     "iopub.status.idle": "2025-03-03T15:20:07.669839Z",
     "shell.execute_reply": "2025-03-03T15:20:07.668781Z"
    },
    "papermill": {
     "duration": 3.019166,
     "end_time": "2025-03-03T15:20:07.671718",
     "exception": false,
     "start_time": "2025-03-03T15:20:04.652552",
     "status": "completed"
    },
    "tags": []
   },
   "outputs": [
    {
     "data": {
      "text/html": [
       "<div>\n",
       "<style scoped>\n",
       "    .dataframe tbody tr th:only-of-type {\n",
       "        vertical-align: middle;\n",
       "    }\n",
       "\n",
       "    .dataframe tbody tr th {\n",
       "        vertical-align: top;\n",
       "    }\n",
       "\n",
       "    .dataframe thead th {\n",
       "        text-align: right;\n",
       "    }\n",
       "</style>\n",
       "<table border=\"1\" class=\"dataframe\">\n",
       "  <thead>\n",
       "    <tr style=\"text-align: right;\">\n",
       "      <th></th>\n",
       "      <th>pelvic_incidence</th>\n",
       "      <th>pelvic_tilt numeric</th>\n",
       "      <th>lumbar_lordosis_angle</th>\n",
       "      <th>sacral_slope</th>\n",
       "      <th>pelvic_radius</th>\n",
       "      <th>degree_spondylolisthesis</th>\n",
       "      <th>class</th>\n",
       "    </tr>\n",
       "  </thead>\n",
       "  <tbody>\n",
       "    <tr>\n",
       "      <th>0</th>\n",
       "      <td>63.027817</td>\n",
       "      <td>22.552586</td>\n",
       "      <td>39.609117</td>\n",
       "      <td>40.475232</td>\n",
       "      <td>98.672917</td>\n",
       "      <td>-0.254400</td>\n",
       "      <td>Abnormal</td>\n",
       "    </tr>\n",
       "    <tr>\n",
       "      <th>1</th>\n",
       "      <td>39.056951</td>\n",
       "      <td>10.060991</td>\n",
       "      <td>25.015378</td>\n",
       "      <td>28.995960</td>\n",
       "      <td>114.405425</td>\n",
       "      <td>4.564259</td>\n",
       "      <td>Abnormal</td>\n",
       "    </tr>\n",
       "    <tr>\n",
       "      <th>2</th>\n",
       "      <td>68.832021</td>\n",
       "      <td>22.218482</td>\n",
       "      <td>50.092194</td>\n",
       "      <td>46.613539</td>\n",
       "      <td>105.985135</td>\n",
       "      <td>-3.530317</td>\n",
       "      <td>Abnormal</td>\n",
       "    </tr>\n",
       "    <tr>\n",
       "      <th>3</th>\n",
       "      <td>69.297008</td>\n",
       "      <td>24.652878</td>\n",
       "      <td>44.311238</td>\n",
       "      <td>44.644130</td>\n",
       "      <td>101.868495</td>\n",
       "      <td>11.211523</td>\n",
       "      <td>Abnormal</td>\n",
       "    </tr>\n",
       "    <tr>\n",
       "      <th>4</th>\n",
       "      <td>49.712859</td>\n",
       "      <td>9.652075</td>\n",
       "      <td>28.317406</td>\n",
       "      <td>40.060784</td>\n",
       "      <td>108.168725</td>\n",
       "      <td>7.918501</td>\n",
       "      <td>Abnormal</td>\n",
       "    </tr>\n",
       "  </tbody>\n",
       "</table>\n",
       "</div>"
      ],
      "text/plain": [
       "   pelvic_incidence  pelvic_tilt numeric  lumbar_lordosis_angle  sacral_slope  \\\n",
       "0         63.027817            22.552586              39.609117     40.475232   \n",
       "1         39.056951            10.060991              25.015378     28.995960   \n",
       "2         68.832021            22.218482              50.092194     46.613539   \n",
       "3         69.297008            24.652878              44.311238     44.644130   \n",
       "4         49.712859             9.652075              28.317406     40.060784   \n",
       "\n",
       "   pelvic_radius  degree_spondylolisthesis     class  \n",
       "0      98.672917                 -0.254400  Abnormal  \n",
       "1     114.405425                  4.564259  Abnormal  \n",
       "2     105.985135                 -3.530317  Abnormal  \n",
       "3     101.868495                 11.211523  Abnormal  \n",
       "4     108.168725                  7.918501  Abnormal  "
      ]
     },
     "execution_count": 1,
     "metadata": {},
     "output_type": "execute_result"
    }
   ],
   "source": [
    "import pandas as pd\n",
    "import matplotlib.pyplot as plt\n",
    "import numpy as np\n",
    "from sklearn.preprocessing import MinMaxScaler\n",
    "from sklearn.neighbors import KNeighborsClassifier\n",
    "from sklearn.model_selection import train_test_split\n",
    "from sklearn.metrics import accuracy_score  # Ensure this line is present\n",
    "from sklearn.metrics import confusion_matrix, ConfusionMatrixDisplay\n",
    "df = pd.read_csv(\"/kaggle/input/biomechanical-features-of-orthopedic-patients/column_2C_weka.csv\")\n",
    "df.head()"
   ]
  },
  {
   "cell_type": "code",
   "execution_count": 2,
   "id": "c4a63c62",
   "metadata": {
    "execution": {
     "iopub.execute_input": "2025-03-03T15:20:07.680237Z",
     "iopub.status.busy": "2025-03-03T15:20:07.679850Z",
     "iopub.status.idle": "2025-03-03T15:20:07.707486Z",
     "shell.execute_reply": "2025-03-03T15:20:07.706225Z"
    },
    "papermill": {
     "duration": 0.033572,
     "end_time": "2025-03-03T15:20:07.709186",
     "exception": false,
     "start_time": "2025-03-03T15:20:07.675614",
     "status": "completed"
    },
    "tags": []
   },
   "outputs": [
    {
     "name": "stdout",
     "output_type": "stream",
     "text": [
      "<class 'pandas.core.frame.DataFrame'>\n",
      "RangeIndex: 310 entries, 0 to 309\n",
      "Data columns (total 7 columns):\n",
      " #   Column                    Non-Null Count  Dtype  \n",
      "---  ------                    --------------  -----  \n",
      " 0   pelvic_incidence          310 non-null    float64\n",
      " 1   pelvic_tilt numeric       310 non-null    float64\n",
      " 2   lumbar_lordosis_angle     310 non-null    float64\n",
      " 3   sacral_slope              310 non-null    float64\n",
      " 4   pelvic_radius             310 non-null    float64\n",
      " 5   degree_spondylolisthesis  310 non-null    float64\n",
      " 6   class                     310 non-null    object \n",
      "dtypes: float64(6), object(1)\n",
      "memory usage: 17.1+ KB\n"
     ]
    }
   ],
   "source": [
    "df.info()"
   ]
  },
  {
   "cell_type": "code",
   "execution_count": 3,
   "id": "9e73f2f8",
   "metadata": {
    "execution": {
     "iopub.execute_input": "2025-03-03T15:20:07.717552Z",
     "iopub.status.busy": "2025-03-03T15:20:07.717216Z",
     "iopub.status.idle": "2025-03-03T15:20:07.727355Z",
     "shell.execute_reply": "2025-03-03T15:20:07.726074Z"
    },
    "papermill": {
     "duration": 0.016297,
     "end_time": "2025-03-03T15:20:07.729063",
     "exception": false,
     "start_time": "2025-03-03T15:20:07.712766",
     "status": "completed"
    },
    "tags": []
   },
   "outputs": [
    {
     "name": "stdout",
     "output_type": "stream",
     "text": [
      "Shape of X_train: (248, 6)\n",
      "Shape of y_train: (248,)\n",
      "Shape of X_test: (62, 6)\n",
      "Shape of y_test: (62,)\n"
     ]
    }
   ],
   "source": [
    "# Split features and target variable\n",
    "X = df.loc[:, df.columns != 'class']\n",
    "y = df.loc[:, 'class']\n",
    "\n",
    "# Split the data into training and test sets\n",
    "X_train, X_test, y_train, y_test = train_test_split(X, y, test_size=0.2, random_state=42)\n",
    "# Check the shapes of the datasets\n",
    "print(f'Shape of X_train: {X_train.shape}')\n",
    "print(f'Shape of y_train: {y_train.shape}')\n",
    "print(f'Shape of X_test: {X_test.shape}')\n",
    "print(f'Shape of y_test: {y_test.shape}')\n",
    "\n"
   ]
  },
  {
   "cell_type": "code",
   "execution_count": 4,
   "id": "7e81168c",
   "metadata": {
    "execution": {
     "iopub.execute_input": "2025-03-03T15:20:07.737754Z",
     "iopub.status.busy": "2025-03-03T15:20:07.737425Z",
     "iopub.status.idle": "2025-03-03T15:20:08.271718Z",
     "shell.execute_reply": "2025-03-03T15:20:08.270540Z"
    },
    "papermill": {
     "duration": 0.540622,
     "end_time": "2025-03-03T15:20:08.273521",
     "exception": false,
     "start_time": "2025-03-03T15:20:07.732899",
     "status": "completed"
    },
    "tags": []
   },
   "outputs": [
    {
     "data": {
      "image/png": "[encoded data removed]",
      "text/plain": [
       "<Figure size 1000x600 with 1 Axes>"
      ]
     },
     "metadata": {},
     "output_type": "display_data"
    }
   ],
   "source": [
    "# Normalization\n",
    "scaler = MinMaxScaler()\n",
    "X_train = scaler.fit_transform(X_train)\n",
    "X_test = scaler.transform(X_test)\n",
    "\n",
    "# Calculate accuracy for different k values\n",
    "k_values = range(1, 21)  # k values from 1 to 20\n",
    "accuracies = []\n",
    "\n",
    "for k in k_values:\n",
    "    knn = KNeighborsClassifier(n_neighbors=k)\n",
    "    knn.fit(X_train, y_train)\n",
    "    predictions = knn.predict(X_test)\n",
    "    accuracy = accuracy_score(y_test, predictions)  # Use accuracy_score here\n",
    "    accuracies.append(accuracy)\n",
    "\n",
    "# Plotting the graph\n",
    "plt.figure(figsize=(10, 6))\n",
    "plt.plot(k_values, accuracies, marker='o')\n",
    "plt.title('KNN Accuracy Rate vs K Value')\n",
    "plt.xlabel('K Value')\n",
    "plt.ylabel('Accuracy Rate')\n",
    "plt.xticks(k_values)\n",
    "plt.grid()\n",
    "plt.show()\n"
   ]
  },
  {
   "cell_type": "markdown",
   "id": "85ba010b",
   "metadata": {
    "papermill": {
     "duration": 0.004386,
     "end_time": "2025-03-03T15:20:08.282848",
     "exception": false,
     "start_time": "2025-03-03T15:20:08.278462",
     "status": "completed"
    },
    "tags": []
   },
   "source": [
    "# In the graph, the values 1, 6, and 12 appear to be viable options. While 1 carries a risk of overfitting, we opted not to choose it. The value 12 covers a broader area, making it less specific. Therefore, 6 is considered the ideal choice."
   ]
  },
  {
   "cell_type": "code",
   "execution_count": 5,
   "id": "17262756",
   "metadata": {
    "execution": {
     "iopub.execute_input": "2025-03-03T15:20:08.293957Z",
     "iopub.status.busy": "2025-03-03T15:20:08.293621Z",
     "iopub.status.idle": "2025-03-03T15:20:08.308983Z",
     "shell.execute_reply": "2025-03-03T15:20:08.307189Z"
    },
    "papermill": {
     "duration": 0.023024,
     "end_time": "2025-03-03T15:20:08.310962",
     "exception": false,
     "start_time": "2025-03-03T15:20:08.287938",
     "status": "completed"
    },
    "tags": []
   },
   "outputs": [
    {
     "name": "stdout",
     "output_type": "stream",
     "text": [
      "Accuracy of KNN with k=6: 0.77\n"
     ]
    }
   ],
   "source": [
    "# Set k value to 6\n",
    "k = 6\n",
    "knn = KNeighborsClassifier(n_neighbors=k)\n",
    "\n",
    "# Ensure the variable names are correct\n",
    "knn.fit(X_train, y_train)  # Make sure these are the correct variable names\n",
    "predictions = knn.predict(X_test)\n",
    "accuracy = accuracy_score(y_test, predictions)\n",
    "\n",
    "print(f'Accuracy of KNN with k={k}: {accuracy:.2f}')\n",
    "#- `accuracy`: Represents a variable indicating the model's accuracy.\n",
    "#- `:.2f`: \n",
    "  #- The `:` character indicates the start of the formatting.\n",
    "  #- `.2`: Specifies that two decimal places should be shown for the number.\n",
    "  #- `f`: Indicates that the number is of \"float\" type (decimal)."
   ]
  },
  {
   "cell_type": "markdown",
   "id": "ac13a0d8",
   "metadata": {
    "papermill": {
     "duration": 0.00444,
     "end_time": "2025-03-03T15:20:08.320305",
     "exception": false,
     "start_time": "2025-03-03T15:20:08.315865",
     "status": "completed"
    },
    "tags": []
   },
   "source": [
    "### The accuracy of the K-Nearest Neighbors (KNN) model with \\( k = 6 \\) is 0.77. This indicates that we have reached our desired accuracy value of 0.77. This level of accuracy demonstrates that the model is performing well in classifying the instances in the dataset."
   ]
  },
  {
   "cell_type": "markdown",
   "id": "5ea0d6f4",
   "metadata": {
    "papermill": {
     "duration": 0.005093,
     "end_time": "2025-03-03T15:20:08.330063",
     "exception": false,
     "start_time": "2025-03-03T15:20:08.324970",
     "status": "completed"
    },
    "tags": []
   },
   "source": [
    "# ------CONFUSSİON MATRİX--------\n"
   ]
  },
  {
   "cell_type": "code",
   "execution_count": 6,
   "id": "7e61a70f",
   "metadata": {
    "execution": {
     "iopub.execute_input": "2025-03-03T15:20:08.341849Z",
     "iopub.status.busy": "2025-03-03T15:20:08.341473Z",
     "iopub.status.idle": "2025-03-03T15:20:08.561437Z",
     "shell.execute_reply": "2025-03-03T15:20:08.560132Z"
    },
    "papermill": {
     "duration": 0.227506,
     "end_time": "2025-03-03T15:20:08.563301",
     "exception": false,
     "start_time": "2025-03-03T15:20:08.335795",
     "status": "completed"
    },
    "tags": []
   },
   "outputs": [
    {
     "data": {
      "image/png": "[encoded data removed]",
      "text/plain": [
       "<Figure size 640x480 with 2 Axes>"
      ]
     },
     "metadata": {},
     "output_type": "display_data"
    }
   ],
   "source": [
    "cm = confusion_matrix(y_test, predictions)\n",
    "disp = ConfusionMatrixDisplay(confusion_matrix=cm)\n",
    "disp.plot(cmap=\"Purples\")  # Customize color scheme if needed\n",
    "plt.show()"
   ]
  },
  {
   "cell_type": "markdown",
   "id": "9c913eb2",
   "metadata": {
    "papermill": {
     "duration": 0.004804,
     "end_time": "2025-03-03T15:20:08.573446",
     "exception": false,
     "start_time": "2025-03-03T15:20:08.568642",
     "status": "completed"
    },
    "tags": []
   },
   "source": [
    "## According to the confusion matrix, our model is performing well in predicting the negative class (0), as we have 40 true negatives (TN) and only 4 false positives (FP). This means the model is accurately predicting the 0 class.\n",
    "\n",
    "## However, we are making more errors in predicting the positive class (1). The model has 10 false negatives (FN), meaning it incorrectly predicts values that should be 1 as 0, and only 8 true positives (TP). This indicates that the model is struggling to correctly predict the 1 class. The high number of false negatives suggests that  the model has low sensitivity to the positive class (1).\n",
    "\n",
    "## In summary, while our predictions are good for the negative class, we are making more mistakes in predicting the positive class.\n",
    "\n",
    "## What Can Be Done to Fix This:\n",
    "## Adjust the k Value: By changing the k value in the KNN model, you can potentially get better results. Lower k values may lead to more overfitting, while higher k ## values generally provide more balanced results.\n",
    "\n",
    "## Address Class Imbalance: In cases where the positive class is underrepresented, you can use data balancing techniques like SMOTE to help the model learn the minority class better by generating more examples.\n",
    "\n",
    "## Use Weighted Loss Function: You can give more weight to the positive class (1) during the model's learning process. This makes the model pay more attention to the positive class. In KNN, you can use weighted distances to achieve this.\n",
    "\n",
    "## Try Different Models: If KNN is not giving the desired performance, you can try Logistic Regression, Random Forest, or XGBoost, as these models are generally more robust to class imbalance.\n",
    "\n",
    "## Evaluate with Precision, Recall, and F1-Score: Instead of just accuracy, evaluate the model using precision, recall, and F1-score metrics. These are especially important when dealing with imbalanced datasets, as they give a better idea of how well the model is predicting each class."
   ]
  },
  {
   "cell_type": "markdown",
   "id": "04a775b9",
   "metadata": {
    "papermill": {
     "duration": 0.004639,
     "end_time": "2025-03-03T15:20:08.583171",
     "exception": false,
     "start_time": "2025-03-03T15:20:08.578532",
     "status": "completed"
    },
    "tags": []
   },
   "source": [
    "# change knn"
   ]
  },
  {
   "cell_type": "code",
   "execution_count": 7,
   "id": "1ff13c2b",
   "metadata": {
    "execution": {
     "iopub.execute_input": "2025-03-03T15:20:08.594995Z",
     "iopub.status.busy": "2025-03-03T15:20:08.594622Z",
     "iopub.status.idle": "2025-03-03T15:20:08.611903Z",
     "shell.execute_reply": "2025-03-03T15:20:08.610669Z"
    },
    "papermill": {
     "duration": 0.025414,
     "end_time": "2025-03-03T15:20:08.613973",
     "exception": false,
     "start_time": "2025-03-03T15:20:08.588559",
     "status": "completed"
    },
    "tags": []
   },
   "outputs": [
    {
     "name": "stdout",
     "output_type": "stream",
     "text": [
      "Accuracy of KNN with k=12: 0.79\n",
      "Confusion Matrix 2:\n",
      "[[41  3]\n",
      " [10  8]]\n"
     ]
    }
   ],
   "source": [
    "# Set k value to 12 (new)\n",
    "k = 12\n",
    "knn = KNeighborsClassifier(n_neighbors=k)\n",
    "\n",
    "# Ensure the variable names are correct\n",
    "knn.fit(X_train, y_train)  # Make sure these are the correct variable names\n",
    "predictions = knn.predict(X_test)\n",
    "accuracy = accuracy_score(y_test, predictions)\n",
    "\n",
    "# Print accuracy\n",
    "print(f'Accuracy of KNN with k={k}: {accuracy:.2f}')\n",
    "\n",
    "# Generate confusion matrix for k=12\n",
    "conf_matrix_2 = confusion_matrix(y_test, predictions)\n",
    "print(\"Confusion Matrix 2:\")\n",
    "print(conf_matrix_2)"
   ]
  },
  {
   "cell_type": "markdown",
   "id": "90429177",
   "metadata": {
    "papermill": {
     "duration": 0.004822,
     "end_time": "2025-03-03T15:20:08.624341",
     "exception": false,
     "start_time": "2025-03-03T15:20:08.619519",
     "status": "completed"
    },
    "tags": []
   },
   "source": [
    "## In this case, we're doing great with the negative predictions—41 true negatives (TN) and only 3 false positives (FP), so the model is really good at predicting the negative class. However, the higher number of negative values does make this result a bit expected. On the positive predictions, we're a bit behind, with 10 false negatives (FN) and only 8 true positives (TP). To improve this, you can try the techniques I mentioned earlier, like adjusting the k value, using data balancing methods, or even changing the model.\n",
    "\n",
    "### This was just an experiment for me, but if it’s something important for your project, you can definitely focus on improving it.\n",
    "# Good luck and have a great day!"
   ]
  }
 ],
 "metadata": {
  "kaggle": {
   "accelerator": "none",
   "dataSources": [
    {
     "datasetId": 2374,
     "sourceId": 3987,
     "sourceType": "datasetVersion"
    }
   ],
   "dockerImageVersionId": 30918,
   "isGpuEnabled": false,
   "isInternetEnabled": true,
   "language": "python",
   "sourceType": "notebook"
  },
  "kernelspec": {
   "display_name": "Python 3",
   "language": "python",
   "name": "python3"
  },
  "language_info": {
   "codemirror_mode": {
    "name": "ipython",
    "version": 3
   },
   "file_extension": ".py",
   "mimetype": "text/x-python",
   "name": "python",
   "nbconvert_exporter": "python",
   "pygments_lexer": "ipython3",
   "version": "3.10.12"
  },
  "papermill": {
   "default_parameters": {},
   "duration": 7.936446,
   "end_time": "2025-03-03T15:20:09.652764",
   "environment_variables": {},
   "exception": null,
   "input_path": "__notebook__.ipynb",
   "output_path": "__notebook__.ipynb",
   "parameters": {},
   "start_time": "2025-03-03T15:20:01.716318",
   "version": "2.6.0"
  }
 },
 "nbformat": 4,
 "nbformat_minor": 5
}
