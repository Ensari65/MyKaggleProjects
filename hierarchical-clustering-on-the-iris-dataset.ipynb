{
 "cells": [
  {
   "cell_type": "markdown",
   "id": "944cf2b1",
   "metadata": {
    "papermill": {
     "duration": 0.002811,
     "end_time": "2025-03-03T20:56:42.949015",
     "exception": false,
     "start_time": "2025-03-03T20:56:42.946204",
     "status": "completed"
    },
    "tags": []
   },
   "source": [
    "## First, we import the necessary libraries and load the Iris dataset. After loading the dataset, we will display the first 5 rows to inspect its structure."
   ]
  },
  {
   "cell_type": "code",
   "execution_count": 1,
   "id": "7f863fd5",
   "metadata": {
    "_cell_guid": "b1076dfc-b9ad-4769-8c92-a6c4dae69d19",
    "_uuid": "8f2839f25d086af736a60e9eeb907d3b93b6e0e5",
    "execution": {
     "iopub.execute_input": "2025-03-03T20:56:42.954924Z",
     "iopub.status.busy": "2025-03-03T20:56:42.954589Z",
     "iopub.status.idle": "2025-03-03T20:56:45.614999Z",
     "shell.execute_reply": "2025-03-03T20:56:45.613822Z"
    },
    "papermill": {
     "duration": 2.665447,
     "end_time": "2025-03-03T20:56:45.617027",
     "exception": false,
     "start_time": "2025-03-03T20:56:42.951580",
     "status": "completed"
    },
    "tags": []
   },
   "outputs": [
    {
     "data": {
      "text/html": [
       "<div>\n",
       "<style scoped>\n",
       "    .dataframe tbody tr th:only-of-type {\n",
       "        vertical-align: middle;\n",
       "    }\n",
       "\n",
       "    .dataframe tbody tr th {\n",
       "        vertical-align: top;\n",
       "    }\n",
       "\n",
       "    .dataframe thead th {\n",
       "        text-align: right;\n",
       "    }\n",
       "</style>\n",
       "<table border=\"1\" class=\"dataframe\">\n",
       "  <thead>\n",
       "    <tr style=\"text-align: right;\">\n",
       "      <th></th>\n",
       "      <th>Id</th>\n",
       "      <th>SepalLengthCm</th>\n",
       "      <th>SepalWidthCm</th>\n",
       "      <th>PetalLengthCm</th>\n",
       "      <th>PetalWidthCm</th>\n",
       "      <th>Species</th>\n",
       "    </tr>\n",
       "  </thead>\n",
       "  <tbody>\n",
       "    <tr>\n",
       "      <th>0</th>\n",
       "      <td>1</td>\n",
       "      <td>5.1</td>\n",
       "      <td>3.5</td>\n",
       "      <td>1.4</td>\n",
       "      <td>0.2</td>\n",
       "      <td>Iris-setosa</td>\n",
       "    </tr>\n",
       "    <tr>\n",
       "      <th>1</th>\n",
       "      <td>2</td>\n",
       "      <td>4.9</td>\n",
       "      <td>3.0</td>\n",
       "      <td>1.4</td>\n",
       "      <td>0.2</td>\n",
       "      <td>Iris-setosa</td>\n",
       "    </tr>\n",
       "    <tr>\n",
       "      <th>2</th>\n",
       "      <td>3</td>\n",
       "      <td>4.7</td>\n",
       "      <td>3.2</td>\n",
       "      <td>1.3</td>\n",
       "      <td>0.2</td>\n",
       "      <td>Iris-setosa</td>\n",
       "    </tr>\n",
       "    <tr>\n",
       "      <th>3</th>\n",
       "      <td>4</td>\n",
       "      <td>4.6</td>\n",
       "      <td>3.1</td>\n",
       "      <td>1.5</td>\n",
       "      <td>0.2</td>\n",
       "      <td>Iris-setosa</td>\n",
       "    </tr>\n",
       "    <tr>\n",
       "      <th>4</th>\n",
       "      <td>5</td>\n",
       "      <td>5.0</td>\n",
       "      <td>3.6</td>\n",
       "      <td>1.4</td>\n",
       "      <td>0.2</td>\n",
       "      <td>Iris-setosa</td>\n",
       "    </tr>\n",
       "  </tbody>\n",
       "</table>\n",
       "</div>"
      ],
      "text/plain": [
       "   Id  SepalLengthCm  SepalWidthCm  PetalLengthCm  PetalWidthCm      Species\n",
       "0   1            5.1           3.5            1.4           0.2  Iris-setosa\n",
       "1   2            4.9           3.0            1.4           0.2  Iris-setosa\n",
       "2   3            4.7           3.2            1.3           0.2  Iris-setosa\n",
       "3   4            4.6           3.1            1.5           0.2  Iris-setosa\n",
       "4   5            5.0           3.6            1.4           0.2  Iris-setosa"
      ]
     },
     "execution_count": 1,
     "metadata": {},
     "output_type": "execute_result"
    }
   ],
   "source": [
    "import numpy as np\n",
    "import pandas as pd\n",
    "import matplotlib.pyplot as plt\n",
    "from scipy.cluster.hierarchy import linkage, dendrogram\n",
    "from sklearn.cluster import AgglomerativeClustering\n",
    "\n",
    "df=pd.read_csv(\"/kaggle/input/iris/Iris.csv\")\n",
    "df.head()"
   ]
  },
  {
   "cell_type": "markdown",
   "id": "2cf109a5",
   "metadata": {
    "papermill": {
     "duration": 0.002208,
     "end_time": "2025-03-03T20:56:45.621940",
     "exception": false,
     "start_time": "2025-03-03T20:56:45.619732",
     "status": "completed"
    },
    "tags": []
   },
   "source": [
    "## In this step, we will use the scipy.cluster.hierarchy module to generate a dendrogram. This will help us understand the clustering hierarchy and the Euclidean distances between data points."
   ]
  },
  {
   "cell_type": "code",
   "execution_count": 2,
   "id": "8c1ce59a",
   "metadata": {
    "execution": {
     "iopub.execute_input": "2025-03-03T20:56:45.627850Z",
     "iopub.status.busy": "2025-03-03T20:56:45.627483Z",
     "iopub.status.idle": "2025-03-03T20:56:47.125615Z",
     "shell.execute_reply": "2025-03-03T20:56:47.124550Z"
    },
    "papermill": {
     "duration": 1.50288,
     "end_time": "2025-03-03T20:56:47.127172",
     "exception": false,
     "start_time": "2025-03-03T20:56:45.624292",
     "status": "completed"
    },
    "tags": []
   },
   "outputs": [
    {
     "data": {
      "image/png": "[encoded data removed]",
      "text/plain": [
       "<Figure size 640x480 with 1 Axes>"
      ]
     },
     "metadata": {},
     "output_type": "display_data"
    }
   ],
   "source": [
    "# Selecting only the numerical columns for clustering (assuming the labels are in the 'species' column)\n",
    "df_numeric = df.drop(columns=['Species'])\n",
    "\n",
    "# Create the linkage matrix using the numerical data\n",
    "merg = linkage(df_numeric, method=\"ward\")\n",
    "\n",
    "# Create and display the dendrogram\n",
    "dendrogram(merg, leaf_rotation=90)\n",
    "plt.xlabel(\"Data points\")\n",
    "plt.ylabel(\"Euclidean distance\")\n",
    "plt.show()"
   ]
  },
  {
   "cell_type": "markdown",
   "id": "2ed56757",
   "metadata": {
    "papermill": {
     "duration": 0.002943,
     "end_time": "2025-03-03T20:56:47.133460",
     "exception": false,
     "start_time": "2025-03-03T20:56:47.130517",
     "status": "completed"
    },
    "tags": []
   },
   "source": [
    "## As seen in the dendrogram, the hierarchical clustering process has been visualized. Next, we can move on to performing hierarchical clustering on the dataset."
   ]
  },
  {
   "cell_type": "code",
   "execution_count": 3,
   "id": "1978c98d",
   "metadata": {
    "execution": {
     "iopub.execute_input": "2025-03-03T20:56:47.140664Z",
     "iopub.status.busy": "2025-03-03T20:56:47.140246Z",
     "iopub.status.idle": "2025-03-03T20:56:47.337194Z",
     "shell.execute_reply": "2025-03-03T20:56:47.336113Z"
    },
    "papermill": {
     "duration": 0.202342,
     "end_time": "2025-03-03T20:56:47.338810",
     "exception": false,
     "start_time": "2025-03-03T20:56:47.136468",
     "status": "completed"
    },
    "tags": []
   },
   "outputs": [
    {
     "data": {
      "image/png": "[encoded data removed]",
      "text/plain": [
       "<Figure size 640x480 with 1 Axes>"
      ]
     },
     "metadata": {},
     "output_type": "display_data"
    }
   ],
   "source": [
    "# Perform hierarchical clustering using the 'ward' linkage method\n",
    "hiyerartical_cluster = AgglomerativeClustering(n_clusters=3, linkage=\"ward\")\n",
    "cluster = hiyerartical_cluster.fit_predict(df_numeric)\n",
    "\n",
    "# Add the predicted labels (clusters) to the dataframe\n",
    "df['label'] = cluster\n",
    "\n",
    "# Visualize the clusters using a scatter plot\n",
    "plt.scatter(df.loc[df.label == 0, df.columns[0]], df.loc[df.label == 0, df.columns[1]], color='red')\n",
    "plt.scatter(df.loc[df.label == 1, df.columns[0]], df.loc[df.label == 1, df.columns[1]], color='green')\n",
    "plt.scatter(df.loc[df.label == 2, df.columns[0]], df.loc[df.label == 2, df.columns[1]], color='blue')\n",
    "plt.show()"
   ]
  },
  {
   "cell_type": "code",
   "execution_count": 4,
   "id": "d8e15bcd",
   "metadata": {
    "execution": {
     "iopub.execute_input": "2025-03-03T20:56:47.347286Z",
     "iopub.status.busy": "2025-03-03T20:56:47.346922Z",
     "iopub.status.idle": "2025-03-03T20:56:47.360472Z",
     "shell.execute_reply": "2025-03-03T20:56:47.359306Z"
    },
    "papermill": {
     "duration": 0.019608,
     "end_time": "2025-03-03T20:56:47.362141",
     "exception": false,
     "start_time": "2025-03-03T20:56:47.342533",
     "status": "completed"
    },
    "tags": []
   },
   "outputs": [
    {
     "name": "stdout",
     "output_type": "stream",
     "text": [
      "Species counts:\n",
      " Species\n",
      "Iris-setosa        50\n",
      "Iris-versicolor    50\n",
      "Iris-virginica     50\n",
      "Name: count, dtype: int64\n",
      "\n",
      "Unique species: ['Iris-setosa' 'Iris-versicolor' 'Iris-virginica']\n"
     ]
    }
   ],
   "source": [
    "# Check the unique values and their counts in the 'Species' column\n",
    "species_counts = df['Species'].value_counts()\n",
    "\n",
    "# Display the unique values\n",
    "species_unique = df['Species'].unique()\n",
    "\n",
    "print(\"Species counts:\\n\", species_counts)\n",
    "print(\"\\nUnique species:\", species_unique)"
   ]
  },
  {
   "cell_type": "markdown",
   "id": "504b41aa",
   "metadata": {
    "papermill": {
     "duration": 0.003663,
     "end_time": "2025-03-03T20:56:47.369948",
     "exception": false,
     "start_time": "2025-03-03T20:56:47.366285",
     "status": "completed"
    },
    "tags": []
   },
   "source": [
    "# As we can see, our model has divided the data into three distinct regions, and indeed, there are three unique species in the dataset. This shows that the model is working as expected, successfully clustering the data into meaningful groups. Everything seems to be running smoothly, and the model's performance aligns with the actual distribution of species in the data. This concludes our analysis for now. Everything is working as expected. I wish you success with your future tasks. Have a great day!"
   ]
  }
 ],
 "metadata": {
  "kaggle": {
   "accelerator": "none",
   "dataSources": [
    {
     "datasetId": 19,
     "sourceId": 420,
     "sourceType": "datasetVersion"
    }
   ],
   "dockerImageVersionId": 30918,
   "isGpuEnabled": false,
   "isInternetEnabled": true,
   "language": "python",
   "sourceType": "notebook"
  },
  "kernelspec": {
   "display_name": "Python 3",
   "language": "python",
   "name": "python3"
  },
  "language_info": {
   "codemirror_mode": {
    "name": "ipython",
    "version": 3
   },
   "file_extension": ".py",
   "mimetype": "text/x-python",
   "name": "python",
   "nbconvert_exporter": "python",
   "pygments_lexer": "ipython3",
   "version": "3.10.12"
  },
  "papermill": {
   "default_parameters": {},
   "duration": 7.835343,
   "end_time": "2025-03-03T20:56:48.093749",
   "environment_variables": {},
   "exception": null,
   "input_path": "__notebook__.ipynb",
   "output_path": "__notebook__.ipynb",
   "parameters": {},
   "start_time": "2025-03-03T20:56:40.258406",
   "version": "2.6.0"
  }
 },
 "nbformat": 4,
 "nbformat_minor": 5
}
